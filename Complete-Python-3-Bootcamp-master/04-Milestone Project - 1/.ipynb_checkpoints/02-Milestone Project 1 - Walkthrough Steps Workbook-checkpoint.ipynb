{
 "cells": [
  {
   "cell_type": "markdown",
   "metadata": {},
   "source": [
    "# Milestone Project 1: Walkthrough Steps Workbook\n",
    "\n",
    "Below is a set of steps for you to follow to try to create the Tic Tac Toe Milestone Project game!"
   ]
  },
  {
   "cell_type": "markdown",
   "metadata": {},
   "source": [
    "#### Some suggested tools before you get started:\n",
    "To take input from a user:\n",
    "\n",
    "    player1 = input(\"Please pick a marker 'X' or 'O'\")\n",
    "    \n",
    "Note that input() takes in a string. If you need an integer value, use\n",
    "\n",
    "    position = int(input('Please enter a number'))\n",
    "    \n",
    "<br>To clear the screen between moves:\n",
    "\n",
    "    from IPython.display import clear_output\n",
    "    clear_output()\n",
    "    \n",
    "Note that clear_output() will only work in jupyter. To clear the screen in other IDEs, consider:\n",
    "\n",
    "    print('\\n'*100)\n",
    "    \n",
    "This scrolls the previous board up out of view. Now on to the program!"
   ]
  },
  {
   "cell_type": "markdown",
   "metadata": {},
   "source": [
    "**Step 1: Write a function that can print out a board. Set up your board as a list, where each index 1-9 corresponds with a number on a number pad, so you get a 3 by 3 board representation.**"
   ]
  },
  {
   "cell_type": "code",
   "execution_count": 1,
   "metadata": {},
   "outputs": [],
   "source": [
    "from IPython.display import clear_output\n",
    "\n",
    "def display_board(board):\n",
    "    # filter out elements not X or O\n",
    "    #valid_board = list(filter(lambda x: x in ['X', 'O'], board))\n",
    "    \n",
    "    # print the board nicely\n",
    "    print(\"{}  |  {}  |  {}\\n{}  |  {}  |  {}\\n{}  |  {}  |  {}\\n\".format(*board[1:]))"
   ]
  },
  {
   "cell_type": "markdown",
   "metadata": {},
   "source": [
    "**TEST Step 1:** run your function on a test version of the board list, and make adjustments as necessary"
   ]
  },
  {
   "cell_type": "code",
   "execution_count": 2,
   "metadata": {},
   "outputs": [
    {
     "name": "stdout",
     "output_type": "stream",
     "text": [
      "X  |  O  |  X\n",
      "O  |     |  O\n",
      "X  |     |  X\n",
      "\n"
     ]
    }
   ],
   "source": [
    "test_board = ['#','X','O','X','O',' ','O','X',' ','X']\n",
    "display_board(test_board)"
   ]
  },
  {
   "cell_type": "markdown",
   "metadata": {},
   "source": [
    "**Step 2: Write a function that can take in a player input and assign their marker as 'X' or 'O'. Think about using *while* loops to continually ask until you get a correct answer.**"
   ]
  },
  {
   "cell_type": "code",
   "execution_count": 3,
   "metadata": {},
   "outputs": [],
   "source": [
    "def player_input():\n",
    "    player1 = None\n",
    "    while player1 == None: #not in ['X', 'O']:\n",
    "        player1 = input(\"Please pick a marker 'X' or 'O'\")\n",
    "    print('\\nPlayer 1, you are player {}'.format(player1))\n",
    "    \n",
    "    if player1 == 'X':\n",
    "        player2 = 'O'\n",
    "    else:\n",
    "        player2 = 'X'\n",
    "\n",
    "    return [player1, player2]"
   ]
  },
  {
   "cell_type": "markdown",
   "metadata": {},
   "source": [
    "**TEST Step 2:** run the function to make sure it returns the desired output"
   ]
  },
  {
   "cell_type": "code",
   "execution_count": 4,
   "metadata": {},
   "outputs": [],
   "source": [
    "#player_input()"
   ]
  },
  {
   "cell_type": "markdown",
   "metadata": {},
   "source": [
    "**Step 3: Write a function that takes in the board list object, a marker ('X' or 'O'), and a desired position (number 1-9) and assigns it to the board.**"
   ]
  },
  {
   "cell_type": "code",
   "execution_count": 5,
   "metadata": {},
   "outputs": [],
   "source": [
    "def place_marker(board, marker, position):\n",
    "    if marker in ['X', 'O']:\n",
    "        board[position] = marker\n",
    "    else:\n",
    "        print('Sorry, please provide a valid marker.')"
   ]
  },
  {
   "cell_type": "markdown",
   "metadata": {},
   "source": [
    "**TEST Step 3:** run the place marker function using test parameters and display the modified board"
   ]
  },
  {
   "cell_type": "code",
   "execution_count": 6,
   "metadata": {},
   "outputs": [
    {
     "name": "stdout",
     "output_type": "stream",
     "text": [
      "X  |  O  |  X\n",
      "O  |     |  O\n",
      "X  |     |  X\n",
      "\n",
      "X  |  O  |  X\n",
      "O  |     |  O\n",
      "X  |  X  |  X\n",
      "\n"
     ]
    }
   ],
   "source": [
    "display_board(test_board)\n",
    "place_marker(test_board,'X',8)\n",
    "display_board(test_board)"
   ]
  },
  {
   "cell_type": "markdown",
   "metadata": {},
   "source": [
    "**Step 4: Write a function that takes in a board and a mark (X or O) and then checks to see if that mark has won. **"
   ]
  },
  {
   "cell_type": "code",
   "execution_count": 7,
   "metadata": {},
   "outputs": [],
   "source": [
    "def win_check(board, mark):\n",
    "    \n",
    "    res = False\n",
    "    \n",
    "    if mark not in ['X', 'O']:\n",
    "        return 'Invalid marker.'\n",
    "    \n",
    "    # start checking from the top left corner\n",
    "    if board[1] == mark:\n",
    "        # have they won horizontally?\n",
    "        if board[2] == mark and board[3] == mark:\n",
    "            res = True\n",
    "        # have they won vertically?\n",
    "        elif board[4] == mark and board [7] == mark:\n",
    "            res = True\n",
    "        # have they won diagonally?\n",
    "        elif board[5] == mark and board[9] == mark:\n",
    "            res = True\n",
    "    \n",
    "    # second cell - the only win is vertically\n",
    "    elif board[2] == mark:\n",
    "        if board[5] == mark and board[8] == mark:\n",
    "            res = True\n",
    "    \n",
    "    # third cell: vertically or diagonally\n",
    "    elif board[3] == mark:\n",
    "        if board[6] == mark and board[9] == mark:\n",
    "            res = True\n",
    "        elif board[5] == mark and board[7] == mark:\n",
    "            res = True\n",
    "    \n",
    "    # fourth cell: the only win is horizontally\n",
    "    elif board[4] == mark:\n",
    "        if board[5] == mark and board[6] == mark:\n",
    "            res = True\n",
    "        \n",
    "    # fifth/sixth cells: these wins have been checked already\n",
    "    # seventh cell: haven't checked for horizontal win yet\n",
    "    elif board[7] == mark:\n",
    "        if board[8] == mark and board[9] == mark:\n",
    "            res = True\n",
    "            \n",
    "    return res"
   ]
  },
  {
   "cell_type": "markdown",
   "metadata": {},
   "source": [
    "**TEST Step 4:** run the win_check function against our test_board - it should return True"
   ]
  },
  {
   "cell_type": "code",
   "execution_count": 8,
   "metadata": {},
   "outputs": [
    {
     "data": {
      "text/plain": [
       "False"
      ]
     },
     "execution_count": 8,
     "metadata": {},
     "output_type": "execute_result"
    }
   ],
   "source": [
    "#win_check(test_board,'X')\n",
    "win_check(test_board,'O')"
   ]
  },
  {
   "cell_type": "markdown",
   "metadata": {},
   "source": [
    "**Step 5: Write a function that uses the random module to randomly decide which player goes first. You may want to lookup random.randint() Return a string of which player went first.**"
   ]
  },
  {
   "cell_type": "code",
   "execution_count": 9,
   "metadata": {},
   "outputs": [],
   "source": [
    "import random\n",
    "\n",
    "def choose_first():\n",
    "    return random.randint(1,2)"
   ]
  },
  {
   "cell_type": "markdown",
   "metadata": {},
   "source": [
    "**Step 6: Write a function that returns a boolean indicating whether a space on the board is freely available.**"
   ]
  },
  {
   "cell_type": "code",
   "execution_count": 10,
   "metadata": {},
   "outputs": [],
   "source": [
    "def space_check(board, position):\n",
    "    return board[position] == ' '"
   ]
  },
  {
   "cell_type": "markdown",
   "metadata": {},
   "source": [
    "**Step 7: Write a function that checks if the board is full and returns a boolean value. True if full, False otherwise.**"
   ]
  },
  {
   "cell_type": "code",
   "execution_count": 11,
   "metadata": {},
   "outputs": [],
   "source": [
    "def full_board_check(board):\n",
    "    return sum(map(lambda p: p == ' ', board)) == 0"
   ]
  },
  {
   "cell_type": "code",
   "execution_count": 12,
   "metadata": {},
   "outputs": [
    {
     "name": "stdout",
     "output_type": "stream",
     "text": [
      "X  |  O  |  X\n",
      "O  |     |  O\n",
      "X  |  X  |  X\n",
      "\n"
     ]
    },
    {
     "data": {
      "text/plain": [
       "False"
      ]
     },
     "execution_count": 12,
     "metadata": {},
     "output_type": "execute_result"
    }
   ],
   "source": [
    "display_board(test_board)\n",
    "full_board_check(test_board)"
   ]
  },
  {
   "cell_type": "markdown",
   "metadata": {},
   "source": [
    "**Step 8: Write a function that asks for a player's next position (as a number 1-9) and then uses the function from step 6 to check if it's a free position. If it is, then return the position for later use.**"
   ]
  },
  {
   "cell_type": "code",
   "execution_count": 13,
   "metadata": {},
   "outputs": [],
   "source": [
    "def player_choice(board):\n",
    "    while True:\n",
    "        next_pos = int(input(\"What is your next move?\"))\n",
    "        \n",
    "        #if type(next_pos) == \"int\":\n",
    "        #    break\n",
    "        #else:\n",
    "        #    print(\"Invalid position. Please enter a number between 1 and 9.\")\n",
    "            \n",
    "        if space_check(board, next_pos) == True:\n",
    "            break\n",
    "        else:\n",
    "            print('That space is full. Please try again.')\n",
    "    return next_pos"
   ]
  },
  {
   "cell_type": "markdown",
   "metadata": {},
   "source": [
    "**Step 9: Write a function that asks the player if they want to play again and returns a boolean True if they do want to play again.**"
   ]
  },
  {
   "cell_type": "code",
   "execution_count": 14,
   "metadata": {},
   "outputs": [],
   "source": [
    "def replay():\n",
    "    again = input(\"Would you like to play again?\")\n",
    "    if again.upper()[0] == 'Y':\n",
    "        return True\n",
    "    else:\n",
    "        return False"
   ]
  },
  {
   "cell_type": "code",
   "execution_count": 16,
   "metadata": {},
   "outputs": [],
   "source": [
    "def play_turn(board, player_num, marker):\n",
    "    print(\"Player {} - your turn!\".format(player_num))\n",
    "        \n",
    "    while True:\n",
    "        position = player_choice(board)\n",
    "        if space_check(board, position):\n",
    "            break\n",
    "        \n",
    "    place_marker(board, marker, position)\n",
    "    display_board(board)"
   ]
  },
  {
   "cell_type": "markdown",
   "metadata": {
    "collapsed": true
   },
   "source": [
    "**Step 10: Here comes the hard part! Use while loops and the functions you've made to run the game!**"
   ]
  },
  {
   "cell_type": "code",
   "execution_count": 17,
   "metadata": {},
   "outputs": [
    {
     "name": "stdout",
     "output_type": "stream",
     "text": [
      "Welcome to Tic Tac Toe!\n",
      "Please pick a marker 'X' or 'O'O\n",
      "\n",
      "Player 1, you are player O\n"
     ]
    },
    {
     "ename": "UnboundLocalError",
     "evalue": "local variable 'player2' referenced before assignment",
     "output_type": "error",
     "traceback": [
      "\u001b[1;31m---------------------------------------------------------------------------\u001b[0m",
      "\u001b[1;31mUnboundLocalError\u001b[0m                         Traceback (most recent call last)",
      "\u001b[1;32m<ipython-input-17-a7a40ba9200f>\u001b[0m in \u001b[0;36m<module>\u001b[1;34m\u001b[0m\n\u001b[0;32m      7\u001b[0m \u001b[1;33m\u001b[0m\u001b[0m\n\u001b[0;32m      8\u001b[0m     \u001b[1;31m# Set the players (X or O)\u001b[0m\u001b[1;33m\u001b[0m\u001b[1;33m\u001b[0m\u001b[1;33m\u001b[0m\u001b[0m\n\u001b[1;32m----> 9\u001b[1;33m     \u001b[0mplayers\u001b[0m \u001b[1;33m=\u001b[0m \u001b[0mplayer_input\u001b[0m\u001b[1;33m(\u001b[0m\u001b[1;33m)\u001b[0m\u001b[1;33m\u001b[0m\u001b[1;33m\u001b[0m\u001b[0m\n\u001b[0m\u001b[0;32m     10\u001b[0m \u001b[1;33m\u001b[0m\u001b[0m\n\u001b[0;32m     11\u001b[0m     \u001b[1;31m# Randomly choose the order\u001b[0m\u001b[1;33m\u001b[0m\u001b[1;33m\u001b[0m\u001b[1;33m\u001b[0m\u001b[0m\n",
      "\u001b[1;32m<ipython-input-3-360c1b42eec1>\u001b[0m in \u001b[0;36mplayer_input\u001b[1;34m()\u001b[0m\n\u001b[0;32m      8\u001b[0m         \u001b[0mplayer2\u001b[0m \u001b[1;33m=\u001b[0m \u001b[1;34m'O'\u001b[0m\u001b[1;33m\u001b[0m\u001b[1;33m\u001b[0m\u001b[0m\n\u001b[0;32m      9\u001b[0m     \u001b[1;32melse\u001b[0m\u001b[1;33m:\u001b[0m\u001b[1;33m\u001b[0m\u001b[1;33m\u001b[0m\u001b[0m\n\u001b[1;32m---> 10\u001b[1;33m         \u001b[0mplayer2\u001b[0m \u001b[1;33m==\u001b[0m \u001b[1;34m'X'\u001b[0m\u001b[1;33m\u001b[0m\u001b[1;33m\u001b[0m\u001b[0m\n\u001b[0m\u001b[0;32m     11\u001b[0m \u001b[1;33m\u001b[0m\u001b[0m\n\u001b[0;32m     12\u001b[0m     \u001b[1;32mreturn\u001b[0m \u001b[1;33m[\u001b[0m\u001b[0mplayer1\u001b[0m\u001b[1;33m,\u001b[0m \u001b[0mplayer2\u001b[0m\u001b[1;33m]\u001b[0m\u001b[1;33m\u001b[0m\u001b[1;33m\u001b[0m\u001b[0m\n",
      "\u001b[1;31mUnboundLocalError\u001b[0m: local variable 'player2' referenced before assignment"
     ]
    }
   ],
   "source": [
    "print('Welcome to Tic Tac Toe!')\n",
    "\n",
    "while True:\n",
    "    \n",
    "    # set up an empty board\n",
    "    board = ['#', ' ', ' ', ' ', ' ', ' ', ' ', ' ', ' ', ' ']\n",
    "    \n",
    "    # Set the players (X or O)\n",
    "    players = player_input()\n",
    "    \n",
    "    # Randomly choose the order\n",
    "    order = (choose_first(), [1, 2])\n",
    "    print(\"Player {} will go first.\".format(order[0]))\n",
    "    \n",
    "    while True:\n",
    "        # the 'first' player's turn (not necessarily player 1)\n",
    "        play_turn(board, order[0], players[order[0] - 1])\n",
    "        \n",
    "        if win_check(board, marker):\n",
    "            print(\"Player {}, you won the game!\".format(players[order[0] - 1]))\n",
    "            break\n",
    "        \n",
    "        \n",
    "        # the 'second' player's turn (not necessarily player 2)\n",
    "        play_turn(board, order[1], players[order[1] - 1])\n",
    "        \n",
    "        if win_check(board, marker):\n",
    "            print(\"Player {}, you won the game!\".format(players[order[0] - 1]))\n",
    "            break\n",
    "            \n",
    "    if not replay():\n",
    "        break"
   ]
  },
  {
   "cell_type": "markdown",
   "metadata": {
    "collapsed": true
   },
   "source": [
    "## Good Job!"
   ]
  }
 ],
 "metadata": {
  "kernelspec": {
   "display_name": "Python 3",
   "language": "python",
   "name": "python3"
  },
  "language_info": {
   "codemirror_mode": {
    "name": "ipython",
    "version": 3
   },
   "file_extension": ".py",
   "mimetype": "text/x-python",
   "name": "python",
   "nbconvert_exporter": "python",
   "pygments_lexer": "ipython3",
   "version": "3.7.3"
  }
 },
 "nbformat": 4,
 "nbformat_minor": 1
}
